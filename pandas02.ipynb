{
 "cells": [
  {
   "cell_type": "code",
   "execution_count": 1,
   "id": "d7949f16",
   "metadata": {},
   "outputs": [],
   "source": [
    "import pandas as pd"
   ]
  },
  {
   "cell_type": "markdown",
   "id": "d232b352",
   "metadata": {},
   "source": [
    "# Lets start with Dictioary as Data Container"
   ]
  },
  {
   "cell_type": "code",
   "execution_count": 2,
   "id": "ce376042",
   "metadata": {},
   "outputs": [
    {
     "data": {
      "text/plain": [
       "{'first name': 'Shibu', 'last name': 'Kumari', 'email': 'shibu123@gmail.com'}"
      ]
     },
     "execution_count": 2,
     "metadata": {},
     "output_type": "execute_result"
    }
   ],
   "source": [
    "person={\n",
    "    \"first name\":\"Shibu\",\n",
    "    \"last name\":\"Kumari\",\n",
    "    \"email\":\"shibu123@gmail.com\"\n",
    "    \n",
    "    \n",
    "    \n",
    "    \n",
    "}\n",
    "person"
   ]
  },
  {
   "cell_type": "markdown",
   "id": "4bc8612f",
   "metadata": {},
   "source": [
    "# but here the Dictioary can store only one value for each key..\n",
    "# Lets go with list of values for each key"
   ]
  },
  {
   "cell_type": "code",
   "execution_count": 3,
   "id": "cd2a1106",
   "metadata": {},
   "outputs": [],
   "source": [
    "people={\n",
    "    \"first name\":[\"Vipul\",\"Shibu\",\"Simran\",],\n",
    "    \"last name\":[\"Kumar\",\"Kumari\",\"Kumari\"],\n",
    "    \n",
    "    \"email\":[\"vipul@234@gmail.com\",\"shibu123@gmail.com\",\"simran123@gmail.com\"]\n",
    "}"
   ]
  },
  {
   "cell_type": "markdown",
   "id": "1af0a1cc",
   "metadata": {},
   "source": [
    "# access values of a specific key"
   ]
  },
  {
   "cell_type": "code",
   "execution_count": 4,
   "id": "7334cc3b",
   "metadata": {},
   "outputs": [
    {
     "data": {
      "text/plain": [
       "['vipul@234@gmail.com', 'shibu123@gmail.com', 'simran123@gmail.com']"
      ]
     },
     "execution_count": 4,
     "metadata": {},
     "output_type": "execute_result"
    }
   ],
   "source": [
    "people['email']"
   ]
  },
  {
   "cell_type": "markdown",
   "id": "75b4392c",
   "metadata": {},
   "source": [
    "# problem with disctionary is: it has very limited functionlities.\n",
    "# here lets go to pandas and its data-frames\n",
    "# DataFrame:2-D data Structure(rows and columns)"
   ]
  },
  {
   "cell_type": "markdown",
   "id": "5303f1d5",
   "metadata": {},
   "source": [
    "# convert disctionary to DataFrame"
   ]
  },
  {
   "cell_type": "code",
   "execution_count": 5,
   "id": "6f2f96b1",
   "metadata": {},
   "outputs": [],
   "source": [
    "df=pd.DataFrame(people)"
   ]
  },
  {
   "cell_type": "code",
   "execution_count": 6,
   "id": "046b5c30",
   "metadata": {},
   "outputs": [
    {
     "data": {
      "text/html": [
       "<div>\n",
       "<style scoped>\n",
       "    .dataframe tbody tr th:only-of-type {\n",
       "        vertical-align: middle;\n",
       "    }\n",
       "\n",
       "    .dataframe tbody tr th {\n",
       "        vertical-align: top;\n",
       "    }\n",
       "\n",
       "    .dataframe thead th {\n",
       "        text-align: right;\n",
       "    }\n",
       "</style>\n",
       "<table border=\"1\" class=\"dataframe\">\n",
       "  <thead>\n",
       "    <tr style=\"text-align: right;\">\n",
       "      <th></th>\n",
       "      <th>first name</th>\n",
       "      <th>last name</th>\n",
       "      <th>email</th>\n",
       "    </tr>\n",
       "  </thead>\n",
       "  <tbody>\n",
       "    <tr>\n",
       "      <th>0</th>\n",
       "      <td>Vipul</td>\n",
       "      <td>Kumar</td>\n",
       "      <td>vipul@234@gmail.com</td>\n",
       "    </tr>\n",
       "    <tr>\n",
       "      <th>1</th>\n",
       "      <td>Shibu</td>\n",
       "      <td>Kumari</td>\n",
       "      <td>shibu123@gmail.com</td>\n",
       "    </tr>\n",
       "    <tr>\n",
       "      <th>2</th>\n",
       "      <td>Simran</td>\n",
       "      <td>Kumari</td>\n",
       "      <td>simran123@gmail.com</td>\n",
       "    </tr>\n",
       "  </tbody>\n",
       "</table>\n",
       "</div>"
      ],
      "text/plain": [
       "  first name last name                email\n",
       "0      Vipul     Kumar  vipul@234@gmail.com\n",
       "1      Shibu    Kumari   shibu123@gmail.com\n",
       "2     Simran    Kumari  simran123@gmail.com"
      ]
     },
     "execution_count": 6,
     "metadata": {},
     "output_type": "execute_result"
    }
   ],
   "source": [
    "df"
   ]
  },
  {
   "cell_type": "markdown",
   "id": "98f77d8b",
   "metadata": {},
   "source": [
    "# Access single column"
   ]
  },
  {
   "cell_type": "code",
   "execution_count": 7,
   "id": "5ec7c72f",
   "metadata": {},
   "outputs": [
    {
     "data": {
      "text/plain": [
       "0    vipul@234@gmail.com\n",
       "1     shibu123@gmail.com\n",
       "2    simran123@gmail.com\n",
       "Name: email, dtype: object"
      ]
     },
     "execution_count": 7,
     "metadata": {},
     "output_type": "execute_result"
    }
   ],
   "source": [
    "df['email']"
   ]
  },
  {
   "cell_type": "code",
   "execution_count": 8,
   "id": "05cf34f0",
   "metadata": {},
   "outputs": [
    {
     "data": {
      "text/plain": [
       "0     Kumar\n",
       "1    Kumari\n",
       "2    Kumari\n",
       "Name: last name, dtype: object"
      ]
     },
     "execution_count": 8,
     "metadata": {},
     "output_type": "execute_result"
    }
   ],
   "source": [
    "df['last name']"
   ]
  },
  {
   "cell_type": "code",
   "execution_count": 9,
   "id": "f526f30a",
   "metadata": {},
   "outputs": [
    {
     "data": {
      "text/plain": [
       "0     Vipul\n",
       "1     Shibu\n",
       "2    Simran\n",
       "Name: first name, dtype: object"
      ]
     },
     "execution_count": 9,
     "metadata": {},
     "output_type": "execute_result"
    }
   ],
   "source": [
    "df['first name']"
   ]
  },
  {
   "cell_type": "markdown",
   "id": "1c2aef0f",
   "metadata": {},
   "source": [
    "# the above printed object is a series"
   ]
  },
  {
   "cell_type": "markdown",
   "id": "75997d08",
   "metadata": {},
   "source": [
    "# Series:1-d array (rows of a single column)"
   ]
  },
  {
   "cell_type": "markdown",
   "id": "951e1d78",
   "metadata": {},
   "source": [
    "# DataFrame:Container for multiple series."
   ]
  },
  {
   "cell_type": "code",
   "execution_count": 10,
   "id": "e845b012",
   "metadata": {},
   "outputs": [
    {
     "data": {
      "text/plain": [
       "pandas.core.series.Series"
      ]
     },
     "execution_count": 10,
     "metadata": {},
     "output_type": "execute_result"
    }
   ],
   "source": [
    "type(df['email'])"
   ]
  },
  {
   "cell_type": "markdown",
   "id": "9aac551c",
   "metadata": {},
   "source": [
    "# Access single column other way"
   ]
  },
  {
   "cell_type": "code",
   "execution_count": 11,
   "id": "82ff54a9",
   "metadata": {},
   "outputs": [
    {
     "data": {
      "text/plain": [
       "0    vipul@234@gmail.com\n",
       "1     shibu123@gmail.com\n",
       "2    simran123@gmail.com\n",
       "Name: email, dtype: object"
      ]
     },
     "execution_count": 11,
     "metadata": {},
     "output_type": "execute_result"
    }
   ],
   "source": [
    "df.email"
   ]
  },
  {
   "cell_type": "markdown",
   "id": "8cfbd96a",
   "metadata": {},
   "source": [
    "# Access Multiple columns"
   ]
  },
  {
   "cell_type": "code",
   "execution_count": 12,
   "id": "9d346f0e",
   "metadata": {},
   "outputs": [
    {
     "data": {
      "text/html": [
       "<div>\n",
       "<style scoped>\n",
       "    .dataframe tbody tr th:only-of-type {\n",
       "        vertical-align: middle;\n",
       "    }\n",
       "\n",
       "    .dataframe tbody tr th {\n",
       "        vertical-align: top;\n",
       "    }\n",
       "\n",
       "    .dataframe thead th {\n",
       "        text-align: right;\n",
       "    }\n",
       "</style>\n",
       "<table border=\"1\" class=\"dataframe\">\n",
       "  <thead>\n",
       "    <tr style=\"text-align: right;\">\n",
       "      <th></th>\n",
       "      <th>first name</th>\n",
       "      <th>last name</th>\n",
       "    </tr>\n",
       "  </thead>\n",
       "  <tbody>\n",
       "    <tr>\n",
       "      <th>0</th>\n",
       "      <td>Vipul</td>\n",
       "      <td>Kumar</td>\n",
       "    </tr>\n",
       "    <tr>\n",
       "      <th>1</th>\n",
       "      <td>Shibu</td>\n",
       "      <td>Kumari</td>\n",
       "    </tr>\n",
       "    <tr>\n",
       "      <th>2</th>\n",
       "      <td>Simran</td>\n",
       "      <td>Kumari</td>\n",
       "    </tr>\n",
       "  </tbody>\n",
       "</table>\n",
       "</div>"
      ],
      "text/plain": [
       "  first name last name\n",
       "0      Vipul     Kumar\n",
       "1      Shibu    Kumari\n",
       "2     Simran    Kumari"
      ]
     },
     "execution_count": 12,
     "metadata": {},
     "output_type": "execute_result"
    }
   ],
   "source": [
    "df[['first name','last name']]"
   ]
  },
  {
   "cell_type": "markdown",
   "id": "7e6bda43",
   "metadata": {},
   "source": [
    "# Knowing all columns of dataframe"
   ]
  },
  {
   "cell_type": "code",
   "execution_count": 13,
   "id": "d51f5d2b",
   "metadata": {},
   "outputs": [
    {
     "data": {
      "text/plain": [
       "Index(['first name', 'last name', 'email'], dtype='object')"
      ]
     },
     "execution_count": 13,
     "metadata": {},
     "output_type": "execute_result"
    }
   ],
   "source": [
    "df.columns"
   ]
  },
  {
   "cell_type": "code",
   "execution_count": 14,
   "id": "9b51bb21",
   "metadata": {},
   "outputs": [
    {
     "data": {
      "text/html": [
       "<div>\n",
       "<style scoped>\n",
       "    .dataframe tbody tr th:only-of-type {\n",
       "        vertical-align: middle;\n",
       "    }\n",
       "\n",
       "    .dataframe tbody tr th {\n",
       "        vertical-align: top;\n",
       "    }\n",
       "\n",
       "    .dataframe thead th {\n",
       "        text-align: right;\n",
       "    }\n",
       "</style>\n",
       "<table border=\"1\" class=\"dataframe\">\n",
       "  <thead>\n",
       "    <tr style=\"text-align: right;\">\n",
       "      <th></th>\n",
       "      <th>first name</th>\n",
       "      <th>last name</th>\n",
       "      <th>email</th>\n",
       "    </tr>\n",
       "  </thead>\n",
       "  <tbody>\n",
       "    <tr>\n",
       "      <th>0</th>\n",
       "      <td>Vipul</td>\n",
       "      <td>Kumar</td>\n",
       "      <td>vipul@234@gmail.com</td>\n",
       "    </tr>\n",
       "    <tr>\n",
       "      <th>1</th>\n",
       "      <td>Shibu</td>\n",
       "      <td>Kumari</td>\n",
       "      <td>shibu123@gmail.com</td>\n",
       "    </tr>\n",
       "    <tr>\n",
       "      <th>2</th>\n",
       "      <td>Simran</td>\n",
       "      <td>Kumari</td>\n",
       "      <td>simran123@gmail.com</td>\n",
       "    </tr>\n",
       "  </tbody>\n",
       "</table>\n",
       "</div>"
      ],
      "text/plain": [
       "  first name last name                email\n",
       "0      Vipul     Kumar  vipul@234@gmail.com\n",
       "1      Shibu    Kumari   shibu123@gmail.com\n",
       "2     Simran    Kumari  simran123@gmail.com"
      ]
     },
     "execution_count": 14,
     "metadata": {},
     "output_type": "execute_result"
    }
   ],
   "source": [
    "df"
   ]
  },
  {
   "cell_type": "markdown",
   "id": "aa7bcf59",
   "metadata": {},
   "source": [
    "# To access rows loc and iloc are used"
   ]
  },
  {
   "cell_type": "markdown",
   "id": "f875aa7f",
   "metadata": {},
   "source": [
    "# loc:it is label-based.\n",
    "    "
   ]
  },
  {
   "cell_type": "markdown",
   "id": "47e2a529",
   "metadata": {},
   "source": [
    "# iloc:it is integer position-based"
   ]
  },
  {
   "cell_type": "code",
   "execution_count": 15,
   "id": "5ccea3b6",
   "metadata": {},
   "outputs": [
    {
     "data": {
      "text/plain": [
       "first name                  Vipul\n",
       "last name                   Kumar\n",
       "email         vipul@234@gmail.com\n",
       "Name: 0, dtype: object"
      ]
     },
     "execution_count": 15,
     "metadata": {},
     "output_type": "execute_result"
    }
   ],
   "source": [
    "df.iloc[0]"
   ]
  },
  {
   "cell_type": "code",
   "execution_count": 16,
   "id": "5661d6f7",
   "metadata": {},
   "outputs": [
    {
     "data": {
      "text/plain": [
       "first name                 Shibu\n",
       "last name                 Kumari\n",
       "email         shibu123@gmail.com\n",
       "Name: 1, dtype: object"
      ]
     },
     "execution_count": 16,
     "metadata": {},
     "output_type": "execute_result"
    }
   ],
   "source": [
    "df.iloc[1]"
   ]
  },
  {
   "cell_type": "markdown",
   "id": "b1a5d72e",
   "metadata": {},
   "source": [
    "# access multiple rows"
   ]
  },
  {
   "cell_type": "code",
   "execution_count": 17,
   "id": "a8260523",
   "metadata": {},
   "outputs": [
    {
     "data": {
      "text/html": [
       "<div>\n",
       "<style scoped>\n",
       "    .dataframe tbody tr th:only-of-type {\n",
       "        vertical-align: middle;\n",
       "    }\n",
       "\n",
       "    .dataframe tbody tr th {\n",
       "        vertical-align: top;\n",
       "    }\n",
       "\n",
       "    .dataframe thead th {\n",
       "        text-align: right;\n",
       "    }\n",
       "</style>\n",
       "<table border=\"1\" class=\"dataframe\">\n",
       "  <thead>\n",
       "    <tr style=\"text-align: right;\">\n",
       "      <th></th>\n",
       "      <th>first name</th>\n",
       "      <th>last name</th>\n",
       "      <th>email</th>\n",
       "    </tr>\n",
       "  </thead>\n",
       "  <tbody>\n",
       "    <tr>\n",
       "      <th>0</th>\n",
       "      <td>Vipul</td>\n",
       "      <td>Kumar</td>\n",
       "      <td>vipul@234@gmail.com</td>\n",
       "    </tr>\n",
       "    <tr>\n",
       "      <th>1</th>\n",
       "      <td>Shibu</td>\n",
       "      <td>Kumari</td>\n",
       "      <td>shibu123@gmail.com</td>\n",
       "    </tr>\n",
       "  </tbody>\n",
       "</table>\n",
       "</div>"
      ],
      "text/plain": [
       "  first name last name                email\n",
       "0      Vipul     Kumar  vipul@234@gmail.com\n",
       "1      Shibu    Kumari   shibu123@gmail.com"
      ]
     },
     "execution_count": 17,
     "metadata": {},
     "output_type": "execute_result"
    }
   ],
   "source": [
    "df.iloc[[0,1]]"
   ]
  },
  {
   "cell_type": "markdown",
   "id": "2ecd6b52",
   "metadata": {},
   "source": [
    "## Rows of specific columns only"
   ]
  },
  {
   "cell_type": "code",
   "execution_count": 18,
   "id": "b6c9c1b6",
   "metadata": {},
   "outputs": [
    {
     "data": {
      "text/plain": [
       "0    vipul@234@gmail.com\n",
       "1     shibu123@gmail.com\n",
       "Name: email, dtype: object"
      ]
     },
     "execution_count": 18,
     "metadata": {},
     "output_type": "execute_result"
    }
   ],
   "source": [
    "df.iloc[[0,1],2]"
   ]
  },
  {
   "cell_type": "code",
   "execution_count": 19,
   "id": "4e0e2655",
   "metadata": {},
   "outputs": [
    {
     "data": {
      "text/html": [
       "<div>\n",
       "<style scoped>\n",
       "    .dataframe tbody tr th:only-of-type {\n",
       "        vertical-align: middle;\n",
       "    }\n",
       "\n",
       "    .dataframe tbody tr th {\n",
       "        vertical-align: top;\n",
       "    }\n",
       "\n",
       "    .dataframe thead th {\n",
       "        text-align: right;\n",
       "    }\n",
       "</style>\n",
       "<table border=\"1\" class=\"dataframe\">\n",
       "  <thead>\n",
       "    <tr style=\"text-align: right;\">\n",
       "      <th></th>\n",
       "      <th>first name</th>\n",
       "      <th>last name</th>\n",
       "    </tr>\n",
       "  </thead>\n",
       "  <tbody>\n",
       "    <tr>\n",
       "      <th>0</th>\n",
       "      <td>Vipul</td>\n",
       "      <td>Kumar</td>\n",
       "    </tr>\n",
       "    <tr>\n",
       "      <th>1</th>\n",
       "      <td>Shibu</td>\n",
       "      <td>Kumari</td>\n",
       "    </tr>\n",
       "  </tbody>\n",
       "</table>\n",
       "</div>"
      ],
      "text/plain": [
       "  first name last name\n",
       "0      Vipul     Kumar\n",
       "1      Shibu    Kumari"
      ]
     },
     "execution_count": 19,
     "metadata": {},
     "output_type": "execute_result"
    }
   ],
   "source": [
    "df.iloc[[0,1],[0,1]]"
   ]
  },
  {
   "cell_type": "markdown",
   "id": "48450418",
   "metadata": {},
   "source": [
    "# now loc"
   ]
  },
  {
   "cell_type": "code",
   "execution_count": 20,
   "id": "b28d9ab1",
   "metadata": {},
   "outputs": [
    {
     "data": {
      "text/html": [
       "<div>\n",
       "<style scoped>\n",
       "    .dataframe tbody tr th:only-of-type {\n",
       "        vertical-align: middle;\n",
       "    }\n",
       "\n",
       "    .dataframe tbody tr th {\n",
       "        vertical-align: top;\n",
       "    }\n",
       "\n",
       "    .dataframe thead th {\n",
       "        text-align: right;\n",
       "    }\n",
       "</style>\n",
       "<table border=\"1\" class=\"dataframe\">\n",
       "  <thead>\n",
       "    <tr style=\"text-align: right;\">\n",
       "      <th></th>\n",
       "      <th>first name</th>\n",
       "      <th>last name</th>\n",
       "      <th>email</th>\n",
       "    </tr>\n",
       "  </thead>\n",
       "  <tbody>\n",
       "    <tr>\n",
       "      <th>0</th>\n",
       "      <td>Vipul</td>\n",
       "      <td>Kumar</td>\n",
       "      <td>vipul@234@gmail.com</td>\n",
       "    </tr>\n",
       "    <tr>\n",
       "      <th>1</th>\n",
       "      <td>Shibu</td>\n",
       "      <td>Kumari</td>\n",
       "      <td>shibu123@gmail.com</td>\n",
       "    </tr>\n",
       "  </tbody>\n",
       "</table>\n",
       "</div>"
      ],
      "text/plain": [
       "  first name last name                email\n",
       "0      Vipul     Kumar  vipul@234@gmail.com\n",
       "1      Shibu    Kumari   shibu123@gmail.com"
      ]
     },
     "execution_count": 20,
     "metadata": {},
     "output_type": "execute_result"
    }
   ],
   "source": [
    "df.loc[[0,1]]"
   ]
  },
  {
   "cell_type": "code",
   "execution_count": 21,
   "id": "3e8d5967",
   "metadata": {},
   "outputs": [
    {
     "data": {
      "text/plain": [
       "0    vipul@234@gmail.com\n",
       "1     shibu123@gmail.com\n",
       "Name: email, dtype: object"
      ]
     },
     "execution_count": 21,
     "metadata": {},
     "output_type": "execute_result"
    }
   ],
   "source": [
    "df.loc[[0,1],'email']"
   ]
  },
  {
   "cell_type": "code",
   "execution_count": 24,
   "id": "73d966b5",
   "metadata": {},
   "outputs": [
    {
     "data": {
      "text/html": [
       "<div>\n",
       "<style scoped>\n",
       "    .dataframe tbody tr th:only-of-type {\n",
       "        vertical-align: middle;\n",
       "    }\n",
       "\n",
       "    .dataframe tbody tr th {\n",
       "        vertical-align: top;\n",
       "    }\n",
       "\n",
       "    .dataframe thead th {\n",
       "        text-align: right;\n",
       "    }\n",
       "</style>\n",
       "<table border=\"1\" class=\"dataframe\">\n",
       "  <thead>\n",
       "    <tr style=\"text-align: right;\">\n",
       "      <th></th>\n",
       "      <th>email</th>\n",
       "      <th>last name</th>\n",
       "    </tr>\n",
       "  </thead>\n",
       "  <tbody>\n",
       "    <tr>\n",
       "      <th>0</th>\n",
       "      <td>vipul@234@gmail.com</td>\n",
       "      <td>Kumar</td>\n",
       "    </tr>\n",
       "    <tr>\n",
       "      <th>1</th>\n",
       "      <td>shibu123@gmail.com</td>\n",
       "      <td>Kumari</td>\n",
       "    </tr>\n",
       "  </tbody>\n",
       "</table>\n",
       "</div>"
      ],
      "text/plain": [
       "                 email last name\n",
       "0  vipul@234@gmail.com     Kumar\n",
       "1   shibu123@gmail.com    Kumari"
      ]
     },
     "execution_count": 24,
     "metadata": {},
     "output_type": "execute_result"
    }
   ],
   "source": [
    "df.loc[[0,1],['email','last name']]"
   ]
  },
  {
   "cell_type": "code",
   "execution_count": null,
   "id": "80fe69de",
   "metadata": {},
   "outputs": [],
   "source": []
  }
 ],
 "metadata": {
  "kernelspec": {
   "display_name": "Python 3",
   "language": "python",
   "name": "python3"
  },
  "language_info": {
   "codemirror_mode": {
    "name": "ipython",
    "version": 3
   },
   "file_extension": ".py",
   "mimetype": "text/x-python",
   "name": "python",
   "nbconvert_exporter": "python",
   "pygments_lexer": "ipython3",
   "version": "3.8.8"
  }
 },
 "nbformat": 4,
 "nbformat_minor": 5
}
